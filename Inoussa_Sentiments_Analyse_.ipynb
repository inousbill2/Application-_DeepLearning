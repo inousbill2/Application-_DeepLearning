{
  "nbformat": 4,
  "nbformat_minor": 0,
  "metadata": {
    "colab": {
      "name": "Inoussa_Sentiments_Analyse .ipynb",
      "provenance": [],
      "collapsed_sections": [],
      "toc_visible": true,
      "include_colab_link": true
    },
    "kernelspec": {
      "name": "python3",
      "display_name": "Python 3"
    },
    "accelerator": "GPU"
  },
  "cells": [
    {
      "cell_type": "markdown",
      "metadata": {
        "id": "view-in-github",
        "colab_type": "text"
      },
      "source": [
        "<a href=\"https://colab.research.google.com/github/inousbill2/Application-_DeepLearning/blob/master/Inoussa_Sentiments_Analyse_.ipynb\" target=\"_parent\"><img src=\"https://colab.research.google.com/assets/colab-badge.svg\" alt=\"Open In Colab\"/></a>"
      ]
    },
    {
      "cell_type": "code",
      "metadata": {
        "id": "TOJoSyQhzr5E",
        "colab_type": "code",
        "outputId": "665a8c4a-4747-4842-a78b-d75380a64033",
        "colab": {
          "base_uri": "https://localhost:8080/",
          "height": 125
        }
      },
      "source": [
        "from google.colab import drive\n",
        "drive.mount('/content/gdrive')\n"
      ],
      "execution_count": 0,
      "outputs": [
        {
          "output_type": "stream",
          "text": [
            "Go to this URL in a browser: https://accounts.google.com/o/oauth2/auth?client_id=947318989803-6bn6qk8qdgf4n4g3pfee6491hc0brc4i.apps.googleusercontent.com&redirect_uri=urn%3aietf%3awg%3aoauth%3a2.0%3aoob&response_type=code&scope=email%20https%3a%2f%2fwww.googleapis.com%2fauth%2fdocs.test%20https%3a%2f%2fwww.googleapis.com%2fauth%2fdrive%20https%3a%2f%2fwww.googleapis.com%2fauth%2fdrive.photos.readonly%20https%3a%2f%2fwww.googleapis.com%2fauth%2fpeopleapi.readonly\n",
            "\n",
            "Enter your authorization code:\n",
            "··········\n",
            "Mounted at /content/gdrive\n"
          ],
          "name": "stdout"
        }
      ]
    },
    {
      "cell_type": "code",
      "metadata": {
        "id": "6_Wvo0ZjC1cd",
        "colab_type": "code",
        "outputId": "55ca953e-3998-480c-d517-49246d67e41c",
        "colab": {
          "base_uri": "https://localhost:8080/",
          "height": 132
        }
      },
      "source": [
        "call drive.mount(\"/content/gdrive\", force_remount=True)"
      ],
      "execution_count": 0,
      "outputs": [
        {
          "output_type": "error",
          "ename": "SyntaxError",
          "evalue": "ignored",
          "traceback": [
            "\u001b[0;36m  File \u001b[0;32m\"<ipython-input-5-46b0edb125a2>\"\u001b[0;36m, line \u001b[0;32m1\u001b[0m\n\u001b[0;31m    call drive.mount(\"/content/gdrive\", force_remount=True)\u001b[0m\n\u001b[0m             ^\u001b[0m\n\u001b[0;31mSyntaxError\u001b[0m\u001b[0;31m:\u001b[0m invalid syntax\n"
          ]
        }
      ]
    },
    {
      "cell_type": "code",
      "metadata": {
        "id": "PS-uE7jVaHhZ",
        "colab_type": "code",
        "outputId": "1dc175d0-5ec3-424e-d480-a9f3ecd30730",
        "colab": {
          "base_uri": "https://localhost:8080/",
          "height": 197
        }
      },
      "source": [
        "import pandas as pd\n",
        "import numpy as np\n",
        "import matplotlib.pyplot as plt\n",
        "#train_path = '/content/gdrive/Hack_datasets/Train/'\n",
        "#file_path =  '/content/gdrive/Hack_datasets/train_label.csv'\n",
        "train_path = '/content/drive/My Drive/Publics_datasets/Train'\n",
        "file_path  = '/content/drive/My Drive/Publics_datasets/train_label.csv'\n",
        "data = pd.read_csv(file_path)\n",
        "data.head()"
      ],
      "execution_count": 0,
      "outputs": [
        {
          "output_type": "execute_result",
          "data": {
            "text/html": [
              "<div>\n",
              "<style scoped>\n",
              "    .dataframe tbody tr th:only-of-type {\n",
              "        vertical-align: middle;\n",
              "    }\n",
              "\n",
              "    .dataframe tbody tr th {\n",
              "        vertical-align: top;\n",
              "    }\n",
              "\n",
              "    .dataframe thead th {\n",
              "        text-align: right;\n",
              "    }\n",
              "</style>\n",
              "<table border=\"1\" class=\"dataframe\">\n",
              "  <thead>\n",
              "    <tr style=\"text-align: right;\">\n",
              "      <th></th>\n",
              "      <th>File</th>\n",
              "      <th>Label</th>\n",
              "    </tr>\n",
              "  </thead>\n",
              "  <tbody>\n",
              "    <tr>\n",
              "      <th>0</th>\n",
              "      <td>PAEP-000001.wav</td>\n",
              "      <td>3</td>\n",
              "    </tr>\n",
              "    <tr>\n",
              "      <th>1</th>\n",
              "      <td>PAEP-000002.wav</td>\n",
              "      <td>5</td>\n",
              "    </tr>\n",
              "    <tr>\n",
              "      <th>2</th>\n",
              "      <td>PAEP-000003.wav</td>\n",
              "      <td>4</td>\n",
              "    </tr>\n",
              "    <tr>\n",
              "      <th>3</th>\n",
              "      <td>PAEP-000004.wav</td>\n",
              "      <td>1</td>\n",
              "    </tr>\n",
              "    <tr>\n",
              "      <th>4</th>\n",
              "      <td>PAEP-000005.wav</td>\n",
              "      <td>0</td>\n",
              "    </tr>\n",
              "  </tbody>\n",
              "</table>\n",
              "</div>"
            ],
            "text/plain": [
              "              File  Label\n",
              "0  PAEP-000001.wav      3\n",
              "1  PAEP-000002.wav      5\n",
              "2  PAEP-000003.wav      4\n",
              "3  PAEP-000004.wav      1\n",
              "4  PAEP-000005.wav      0"
            ]
          },
          "metadata": {
            "tags": []
          },
          "execution_count": 6
        }
      ]
    },
    {
      "cell_type": "code",
      "metadata": {
        "id": "I8n5-w3nBzpS",
        "colab_type": "code",
        "outputId": "f040c669-a0d5-48cb-bcd7-3495f68b24d2",
        "colab": {
          "base_uri": "https://localhost:8080/",
          "height": 125
        }
      },
      "source": [
        "from google.colab import drive\n",
        "drive.mount('/content/drive')"
      ],
      "execution_count": 0,
      "outputs": [
        {
          "output_type": "stream",
          "text": [
            "Go to this URL in a browser: https://accounts.google.com/o/oauth2/auth?client_id=947318989803-6bn6qk8qdgf4n4g3pfee6491hc0brc4i.apps.googleusercontent.com&redirect_uri=urn%3aietf%3awg%3aoauth%3a2.0%3aoob&response_type=code&scope=email%20https%3a%2f%2fwww.googleapis.com%2fauth%2fdocs.test%20https%3a%2f%2fwww.googleapis.com%2fauth%2fdrive%20https%3a%2f%2fwww.googleapis.com%2fauth%2fdrive.photos.readonly%20https%3a%2f%2fwww.googleapis.com%2fauth%2fpeopleapi.readonly\n",
            "\n",
            "Enter your authorization code:\n",
            "··········\n",
            "Mounted at /content/drive\n"
          ],
          "name": "stdout"
        }
      ]
    },
    {
      "cell_type": "code",
      "metadata": {
        "id": "iopS1zutwUKS",
        "colab_type": "code",
        "colab": {}
      },
      "source": [
        ""
      ],
      "execution_count": 0,
      "outputs": []
    },
    {
      "cell_type": "code",
      "metadata": {
        "id": "xzz6x2y3aoHx",
        "colab_type": "code",
        "outputId": "0dd4261d-88ae-4707-cb0d-5aec36a65077",
        "colab": {
          "base_uri": "https://localhost:8080/",
          "height": 167
        }
      },
      "source": [
        "data['Label'].value_counts().plot(kind='bar')"
      ],
      "execution_count": 0,
      "outputs": [
        {
          "output_type": "error",
          "ename": "NameError",
          "evalue": "ignored",
          "traceback": [
            "\u001b[0;31m---------------------------------------------------------------------------\u001b[0m",
            "\u001b[0;31mNameError\u001b[0m                                 Traceback (most recent call last)",
            "\u001b[0;32m<ipython-input-3-fed5daaa938b>\u001b[0m in \u001b[0;36m<module>\u001b[0;34m()\u001b[0m\n\u001b[0;32m----> 1\u001b[0;31m \u001b[0mdata\u001b[0m\u001b[0;34m[\u001b[0m\u001b[0;34m'Label'\u001b[0m\u001b[0;34m]\u001b[0m\u001b[0;34m.\u001b[0m\u001b[0mvalue_counts\u001b[0m\u001b[0;34m(\u001b[0m\u001b[0;34m)\u001b[0m\u001b[0;34m.\u001b[0m\u001b[0mplot\u001b[0m\u001b[0;34m(\u001b[0m\u001b[0mkind\u001b[0m\u001b[0;34m=\u001b[0m\u001b[0;34m'bar'\u001b[0m\u001b[0;34m)\u001b[0m\u001b[0;34m\u001b[0m\u001b[0;34m\u001b[0m\u001b[0m\n\u001b[0m",
            "\u001b[0;31mNameError\u001b[0m: name 'data' is not defined"
          ]
        }
      ]
    },
    {
      "cell_type": "code",
      "metadata": {
        "id": "eoG1beB1CMgh",
        "colab_type": "code",
        "outputId": "5e33e579-ad35-43a3-8144-170c587f6bc6",
        "colab": {
          "base_uri": "https://localhost:8080/",
          "height": 143
        }
      },
      "source": [
        "!pip install soundfile"
      ],
      "execution_count": 0,
      "outputs": [
        {
          "output_type": "stream",
          "text": [
            "Collecting soundfile\n",
            "  Downloading https://files.pythonhosted.org/packages/eb/f2/3cbbbf3b96fb9fa91582c438b574cff3f45b29c772f94c400e2c99ef5db9/SoundFile-0.10.3.post1-py2.py3-none-any.whl\n",
            "Requirement already satisfied: cffi>=1.0 in /usr/local/lib/python3.6/dist-packages (from soundfile) (1.13.2)\n",
            "Requirement already satisfied: pycparser in /usr/local/lib/python3.6/dist-packages (from cffi>=1.0->soundfile) (2.19)\n",
            "Installing collected packages: soundfile\n",
            "Successfully installed soundfile-0.10.3.post1\n"
          ],
          "name": "stdout"
        }
      ]
    },
    {
      "cell_type": "code",
      "metadata": {
        "id": "zf8xjjCBkn7K",
        "colab_type": "code",
        "outputId": "a01bb8f9-cc67-4fe9-841d-683bbe97f226",
        "colab": {
          "base_uri": "https://localhost:8080/",
          "height": 381
        }
      },
      "source": [
        "import soundfile # to read audio file\n",
        "import numpy as np\n",
        "import librosa # to extract speech features\n",
        "import glob\n",
        "import os\n",
        "import pickle # to save model after training\n",
        "from sklearn.model_selection import train_test_split # for splitting training and testing\n",
        "from sklearn.neural_network import MLPClassifier # multi-layer perceptron model\n",
        "from sklearn.metrics import accuracy_score # to measure how good we are"
      ],
      "execution_count": 0,
      "outputs": [
        {
          "output_type": "error",
          "ename": "ModuleNotFoundError",
          "evalue": "ignored",
          "traceback": [
            "\u001b[0;31m---------------------------------------------------------------------------\u001b[0m",
            "\u001b[0;31mModuleNotFoundError\u001b[0m                       Traceback (most recent call last)",
            "\u001b[0;32m<ipython-input-5-c296c87ceb70>\u001b[0m in \u001b[0;36m<module>\u001b[0;34m()\u001b[0m\n\u001b[0;32m----> 1\u001b[0;31m \u001b[0;32mimport\u001b[0m \u001b[0msoundfile\u001b[0m \u001b[0;31m# to read audio file\u001b[0m\u001b[0;34m\u001b[0m\u001b[0;34m\u001b[0m\u001b[0m\n\u001b[0m\u001b[1;32m      2\u001b[0m \u001b[0;32mimport\u001b[0m \u001b[0mnumpy\u001b[0m \u001b[0;32mas\u001b[0m \u001b[0mnp\u001b[0m\u001b[0;34m\u001b[0m\u001b[0;34m\u001b[0m\u001b[0m\n\u001b[1;32m      3\u001b[0m \u001b[0;32mimport\u001b[0m \u001b[0mlibrosa\u001b[0m \u001b[0;31m# to extract speech features\u001b[0m\u001b[0;34m\u001b[0m\u001b[0;34m\u001b[0m\u001b[0m\n\u001b[1;32m      4\u001b[0m \u001b[0;32mimport\u001b[0m \u001b[0mglob\u001b[0m\u001b[0;34m\u001b[0m\u001b[0;34m\u001b[0m\u001b[0m\n\u001b[1;32m      5\u001b[0m \u001b[0;32mimport\u001b[0m \u001b[0mos\u001b[0m\u001b[0;34m\u001b[0m\u001b[0;34m\u001b[0m\u001b[0m\n",
            "\u001b[0;31mModuleNotFoundError\u001b[0m: No module named 'soundfile'",
            "",
            "\u001b[0;31m---------------------------------------------------------------------------\u001b[0;32m\nNOTE: If your import is failing due to a missing package, you can\nmanually install dependencies using either !pip or !apt.\n\nTo view examples of installing some common dependencies, click the\n\"Open Examples\" button below.\n\u001b[0;31m---------------------------------------------------------------------------\u001b[0m\n"
          ]
        }
      ]
    },
    {
      "cell_type": "code",
      "metadata": {
        "id": "ZQp3FG4C9-O7",
        "colab_type": "code",
        "colab": {}
      },
      "source": [
        "def extract_feature(file_name, **kwargs):\n",
        "    \"\"\"\n",
        "    Extract feature from audio file `file_name`\n",
        "        Features supported:\n",
        "            - MFCC (mfcc)\n",
        "            - Chroma (chroma)\n",
        "            - MEL Spectrogram Frequency (mel)\n",
        "            - Contrast (contrast)\n",
        "            - Tonnetz (tonnetz)\n",
        "        e.g:\n",
        "        `features = extract_feature(path, mel=True, mfcc=True)`\n",
        "    \"\"\"\n",
        "    mfcc = kwargs.get(\"mfcc\")\n",
        "    chroma = kwargs.get(\"chroma\")\n",
        "    mel = kwargs.get(\"mel\")\n",
        "    contrast = kwargs.get(\"contrast\")\n",
        "    tonnetz = kwargs.get(\"tonnetz\")\n",
        "    with soundfile.SoundFile(train_path+file_name) as sound_file:\n",
        "        X = sound_file.read(dtype=\"float32\")\n",
        "        sample_rate = sound_file.samplerate\n",
        "        if chroma or contrast:\n",
        "            stft = np.abs(librosa.stft(X))\n",
        "        result = np.array([])\n",
        "        if mfcc:\n",
        "            mfccs = np.mean(librosa.feature.mfcc(y=X, sr=sample_rate, n_mfcc=40).T, axis=0)\n",
        "            result = np.hstack((result, mfccs))\n",
        "        if chroma:\n",
        "            chroma = np.mean(librosa.feature.chroma_stft(S=stft, sr=sample_rate).T,axis=0)\n",
        "            result = np.hstack((result, chroma))\n",
        "        if mel:\n",
        "            mel = np.mean(librosa.feature.melspectrogram(X, sr=sample_rate).T,axis=0)\n",
        "            result = np.hstack((result, mel))\n",
        "        if contrast:\n",
        "            contrast = np.mean(librosa.feature.spectral_contrast(S=stft, sr=sample_rate).T,axis=0)\n",
        "            result = np.hstack((result, contrast))\n",
        "        if tonnetz:\n",
        "            tonnetz = np.mean(librosa.feature.tonnetz(y=librosa.effects.harmonic(X), sr=sample_rate).T,axis=0)\n",
        "            result = np.hstack((result, tonnetz))\n",
        "    return result\n",
        "\n",
        "\n",
        "def load_data():\n",
        "  X, y = [], []\n",
        "  ffile = open(file_path, \"r\")\n",
        "  #lines = ffile.readlines()\n",
        "  lines = ffile.readlines()[1:]\n",
        "  ffile.close()\n",
        "  #print(len(lines))\n",
        "  #next(lines)\n",
        "  for line in lines:\n",
        "    lst_split = line.split(',')\n",
        "    file_name = lst_split[0]\n",
        "    emotion = lst_split[1]\n",
        "    #if emotion not in AVAILABLE_EMOTIONS:\n",
        "    #    continue\n",
        "    # extract speech features\n",
        "    #print(file_name)\n",
        "    features = extract_feature(file_name, mfcc=True, chroma=True, mel=True)\n",
        "    # add to data\n",
        "    X.append(features)\n",
        "    y.append(emotion)\n",
        "    # split the data to training and testing and return it\n",
        "  return X, y #train_test_split(np.array(X), y, test_size=test_size, random_state=7)\n"
      ],
      "execution_count": 0,
      "outputs": []
    },
    {
      "cell_type": "code",
      "metadata": {
        "id": "2_RoWMkzmJlI",
        "colab_type": "code",
        "outputId": "5b981384-dc19-43ea-e50a-e220cb4dc98d",
        "colab": {
          "base_uri": "https://localhost:8080/",
          "height": 36
        }
      },
      "source": [
        "#X_train, X_test, y_train, y_test = load_data(test_size=0.25)\n",
        "X_train, y_train = load_data()\n"
      ],
      "execution_count": 0,
      "outputs": [
        {
          "output_type": "stream",
          "text": [
            "5229\n"
          ],
          "name": "stdout"
        }
      ]
    },
    {
      "cell_type": "code",
      "metadata": {
        "id": "obhzmfeuokle",
        "colab_type": "code",
        "colab": {}
      },
      "source": [
        "X_train_np = np.array(X_train)"
      ],
      "execution_count": 0,
      "outputs": []
    },
    {
      "cell_type": "code",
      "metadata": {
        "id": "c-x7UASRovdQ",
        "colab_type": "code",
        "outputId": "eca35b41-2820-48bb-d1e9-94f867f26911",
        "colab": {
          "base_uri": "https://localhost:8080/",
          "height": 36
        }
      },
      "source": [
        "X_train_np.shape"
      ],
      "execution_count": 0,
      "outputs": [
        {
          "output_type": "execute_result",
          "data": {
            "text/plain": [
              "(5229, 180)"
            ]
          },
          "metadata": {
            "tags": []
          },
          "execution_count": 59
        }
      ]
    },
    {
      "cell_type": "code",
      "metadata": {
        "id": "iUgE__zJRIOx",
        "colab_type": "code",
        "outputId": "ff5c62bc-74e9-4fc5-9196-7fc6347e16bc",
        "colab": {
          "base_uri": "https://localhost:8080/",
          "height": 203
        }
      },
      "source": [
        "import pickle\n",
        "with open('/content/gdrive/My Drive/Publics_datasets/CNN_Extration/featuresdf_train.pd', 'wb') as handle:\n",
        "    pickle.dump(X_train, handle)"
      ],
      "execution_count": 0,
      "outputs": [
        {
          "output_type": "error",
          "ename": "NameError",
          "evalue": "ignored",
          "traceback": [
            "\u001b[0;31m---------------------------------------------------------------------------\u001b[0m",
            "\u001b[0;31mNameError\u001b[0m                                 Traceback (most recent call last)",
            "\u001b[0;32m<ipython-input-8-1acb3f74a468>\u001b[0m in \u001b[0;36m<module>\u001b[0;34m()\u001b[0m\n\u001b[1;32m      1\u001b[0m \u001b[0;32mimport\u001b[0m \u001b[0mpickle\u001b[0m\u001b[0;34m\u001b[0m\u001b[0;34m\u001b[0m\u001b[0m\n\u001b[1;32m      2\u001b[0m \u001b[0;32mwith\u001b[0m \u001b[0mopen\u001b[0m\u001b[0;34m(\u001b[0m\u001b[0;34m'/content/gdrive/My Drive/Publics_datasets/CNN_Extration/featuresdf_train.pd'\u001b[0m\u001b[0;34m,\u001b[0m \u001b[0;34m'wb'\u001b[0m\u001b[0;34m)\u001b[0m \u001b[0;32mas\u001b[0m \u001b[0mhandle\u001b[0m\u001b[0;34m:\u001b[0m\u001b[0;34m\u001b[0m\u001b[0;34m\u001b[0m\u001b[0m\n\u001b[0;32m----> 3\u001b[0;31m     \u001b[0mpickle\u001b[0m\u001b[0;34m.\u001b[0m\u001b[0mdump\u001b[0m\u001b[0;34m(\u001b[0m\u001b[0mX_train\u001b[0m\u001b[0;34m,\u001b[0m \u001b[0mhandle\u001b[0m\u001b[0;34m)\u001b[0m\u001b[0;34m\u001b[0m\u001b[0;34m\u001b[0m\u001b[0m\n\u001b[0m",
            "\u001b[0;31mNameError\u001b[0m: name 'X_train' is not defined"
          ]
        }
      ]
    },
    {
      "cell_type": "code",
      "metadata": {
        "id": "ZJ6SYw_eRs-Z",
        "colab_type": "code",
        "colab": {}
      },
      "source": [
        "import pickle\n",
        "with open('gdrive/My Drive/Colab Notebooks/Hack_datasets/features_y.csv', 'wb') as handle:\n",
        "    pickle.dump(y_train, handle)"
      ],
      "execution_count": 0,
      "outputs": []
    },
    {
      "cell_type": "code",
      "metadata": {
        "id": "oj50vJZoSmaU",
        "colab_type": "code",
        "colab": {}
      },
      "source": [
        "with open('gdrive/My Drive/Colab Notebooks/Hack_datasets/features_x.csv', 'rb') as handle:\n",
        "    train_d = pickle.load(handle)"
      ],
      "execution_count": 0,
      "outputs": []
    },
    {
      "cell_type": "code",
      "metadata": {
        "id": "iawmvylSTBH4",
        "colab_type": "code",
        "colab": {}
      },
      "source": [
        "with open('gdrive/My Drive/Colab Notebooks/Hack_datasets/features_y.csv', 'rb') as handle:\n",
        "    test_d = pickle.load(handle)"
      ],
      "execution_count": 0,
      "outputs": []
    },
    {
      "cell_type": "code",
      "metadata": {
        "id": "2zoYVmMtmODj",
        "colab_type": "code",
        "outputId": "17f162d3-9074-4550-b836-ce09561c5ede",
        "colab": {
          "base_uri": "https://localhost:8080/",
          "height": 55
        }
      },
      "source": [
        "# print some details\n",
        "# number of samples in training data\n",
        "print(\"[+] Number of training samples:\", X_train_np.shape[0])\n",
        "# number of samples in testing data\n",
        "#print(\"[+] Number of testing samples:\", X_test.shape[0])\n",
        "# number of features used\n",
        "# this is a vector of features extracted \n",
        "# using extract_features() function\n",
        "print(\"[+] Number of features:\", X_train_np.shape[1])"
      ],
      "execution_count": 0,
      "outputs": [
        {
          "output_type": "stream",
          "text": [
            "[+] Number of training samples: 5229\n",
            "[+] Number of features: 180\n"
          ],
          "name": "stdout"
        }
      ]
    },
    {
      "cell_type": "code",
      "metadata": {
        "id": "twB3moDgmSI2",
        "colab_type": "code",
        "colab": {}
      },
      "source": [
        "# best model, determined by a grid search\n",
        "model_params = {\n",
        "    'alpha': 0.01,\n",
        "    'batch_size': 256,\n",
        "    'epsilon': 1e-08, \n",
        "    'hidden_layer_sizes': (300,), \n",
        "    'learning_rate': 'adaptive', \n",
        "    'max_iter': 500, \n",
        "}"
      ],
      "execution_count": 0,
      "outputs": []
    },
    {
      "cell_type": "code",
      "metadata": {
        "id": "_1GLpjmdmWWG",
        "colab_type": "code",
        "colab": {}
      },
      "source": [
        "# initialize Multi Layer Perceptron classifier\n",
        "# with best parameters ( so far )\n",
        "model = MLPClassifier(**model_params)"
      ],
      "execution_count": 0,
      "outputs": []
    },
    {
      "cell_type": "code",
      "metadata": {
        "id": "vQBgKBszmZZk",
        "colab_type": "code",
        "outputId": "3929f253-c3cb-48cb-c036-731f69a224a8",
        "colab": {
          "base_uri": "https://localhost:8080/",
          "height": 169
        }
      },
      "source": [
        "# train the model\n",
        "print(\"[*] Training the model...\")\n",
        "model.fit(X_train_np, y_train)"
      ],
      "execution_count": 0,
      "outputs": [
        {
          "output_type": "stream",
          "text": [
            "[*] Training the model...\n"
          ],
          "name": "stdout"
        },
        {
          "output_type": "execute_result",
          "data": {
            "text/plain": [
              "MLPClassifier(activation='relu', alpha=0.01, batch_size=256, beta_1=0.9,\n",
              "              beta_2=0.999, early_stopping=False, epsilon=1e-08,\n",
              "              hidden_layer_sizes=(300,), learning_rate='adaptive',\n",
              "              learning_rate_init=0.001, max_iter=500, momentum=0.9,\n",
              "              n_iter_no_change=10, nesterovs_momentum=True, power_t=0.5,\n",
              "              random_state=None, shuffle=True, solver='adam', tol=0.0001,\n",
              "              validation_fraction=0.1, verbose=False, warm_start=False)"
            ]
          },
          "metadata": {
            "tags": []
          },
          "execution_count": 63
        }
      ]
    },
    {
      "cell_type": "code",
      "metadata": {
        "id": "hpz4YdfGpTlg",
        "colab_type": "code",
        "outputId": "eea9cce9-1ff3-49cb-a65e-9a80edc74187",
        "colab": {
          "base_uri": "https://localhost:8080/",
          "height": 36
        }
      },
      "source": [
        "# predict 25% of data to measure how good we are\n",
        "y_pred = model.predict(X_train_np)\n",
        "\n",
        "# calculate the accuracy\n",
        "accuracy = accuracy_score(y_true=y_train, y_pred=y_pred)\n",
        "\n",
        "print(\"Accuracy: {:.2f}%\".format(accuracy*100))"
      ],
      "execution_count": 0,
      "outputs": [
        {
          "output_type": "stream",
          "text": [
            "Accuracy: 72.73%\n"
          ],
          "name": "stdout"
        }
      ]
    },
    {
      "cell_type": "code",
      "metadata": {
        "id": "ac8i7sOCmfxw",
        "colab_type": "code",
        "colab": {}
      },
      "source": [
        "# now we save the model\n",
        "# make result directory if doesn't exist yet\n",
        "\n",
        "\n",
        "\n",
        "\n",
        "\n",
        "y_train\n",
        "\n",
        "with open('/content/gdrive/My Drive/Publics_datasets/Simple_Extration/features_x.csv', 'wb') as handle:\n",
        "    pickle.dump(y_train, handle)\n"
      ],
      "execution_count": 0,
      "outputs": []
    },
    {
      "cell_type": "code",
      "metadata": {
        "id": "HFu1Hm4yLeqf",
        "colab_type": "code",
        "colab": {}
      },
      "source": [
        ""
      ],
      "execution_count": 0,
      "outputs": []
    },
    {
      "cell_type": "code",
      "metadata": {
        "id": "TFbfMZXkFzSU",
        "colab_type": "code",
        "colab": {}
      },
      "source": [
        "import pandas as pd"
      ],
      "execution_count": 0,
      "outputs": []
    },
    {
      "cell_type": "markdown",
      "metadata": {
        "id": "yfdadLAg-KHK",
        "colab_type": "text"
      },
      "source": [
        "End\n"
      ]
    },
    {
      "cell_type": "code",
      "metadata": {
        "id": "-uDBUIZHJ9Gi",
        "colab_type": "code",
        "colab": {}
      },
      "source": [
        ""
      ],
      "execution_count": 0,
      "outputs": []
    },
    {
      "cell_type": "code",
      "metadata": {
        "id": "d6QEi_fYJ8-q",
        "colab_type": "code",
        "colab": {}
      },
      "source": [
        ""
      ],
      "execution_count": 0,
      "outputs": []
    },
    {
      "cell_type": "code",
      "metadata": {
        "id": "9sTqk85nJ84h",
        "colab_type": "code",
        "colab": {}
      },
      "source": [
        ""
      ],
      "execution_count": 0,
      "outputs": []
    },
    {
      "cell_type": "code",
      "metadata": {
        "id": "C1zbfTDZJ75L",
        "colab_type": "code",
        "colab": {}
      },
      "source": [
        ""
      ],
      "execution_count": 0,
      "outputs": []
    },
    {
      "cell_type": "code",
      "metadata": {
        "id": "kqD4e8-TKiDF",
        "colab_type": "code",
        "colab": {}
      },
      "source": [
        ""
      ],
      "execution_count": 0,
      "outputs": []
    },
    {
      "cell_type": "code",
      "metadata": {
        "id": "a7kCYG5VJ7t9",
        "colab_type": "code",
        "colab": {}
      },
      "source": [
        "inputs_features =\"/content/drive/My Drive/Publics_datasets/BenExtract/features_train_x.csv\"\n",
        "outputs_features =\"/content/drive/My Drive/Publics_datasets/BenExtract/features_train_y.csv\""
      ],
      "execution_count": 0,
      "outputs": []
    },
    {
      "cell_type": "code",
      "metadata": {
        "id": "v2UnN3JHRuXu",
        "colab_type": "code",
        "colab": {}
      },
      "source": [
        "#train_labels = \"/train_label.csv\"\n",
        "\n",
        "import pickle\n",
        "features_x = pickle.load( open( inputs_features, \"rb\" ) )\n",
        "features_y = pickle.load( open( outputs_features, \"rb\" ) )"
      ],
      "execution_count": 0,
      "outputs": []
    },
    {
      "cell_type": "code",
      "metadata": {
        "id": "hB0MyhZlR5Tl",
        "colab_type": "code",
        "colab": {}
      },
      "source": [
        "\n",
        "import numpy as np\n",
        "audios =np.array(features_x)\n",
        "label = np.array(features_y).astype(int)"
      ],
      "execution_count": 0,
      "outputs": []
    },
    {
      "cell_type": "code",
      "metadata": {
        "id": "6NlQMhz5SjxZ",
        "colab_type": "code",
        "colab": {}
      },
      "source": [
        "# Feature Scaling\n",
        "from sklearn.preprocessing import LabelEncoder,StandardScaler,OneHotEncoder\n",
        "labelencodin=LabelEncoder()\n",
        "# Feature Scaling\n",
        "from sklearn.preprocessing import StandardScaler,OneHotEncoder\n",
        "\n",
        "\n",
        "Ytrain=labelencodin.fit_transform((label))\n",
        "\n",
        "Ytrain=labelencodin.fit_transform(label)\n",
        "Y=OneHotEncoder(categorical_features=[5])"
      ],
      "execution_count": 0,
      "outputs": []
    },
    {
      "cell_type": "code",
      "metadata": {
        "id": "T6nx3x7ATNkK",
        "colab_type": "code",
        "outputId": "d4a0cf88-4672-4286-bd8b-be05a260a11b",
        "colab": {
          "base_uri": "https://localhost:8080/",
          "height": 81
        }
      },
      "source": [
        "import keras\n",
        "y_train = keras.utils.to_categorical(label, 0)\n",
        "\n",
        "sc = StandardScaler()\n",
        "X_train = sc.fit_transform(audios)"
      ],
      "execution_count": 0,
      "outputs": [
        {
          "output_type": "stream",
          "text": [
            "Using TensorFlow backend.\n"
          ],
          "name": "stderr"
        },
        {
          "output_type": "display_data",
          "data": {
            "text/html": [
              "<p style=\"color: red;\">\n",
              "The default version of TensorFlow in Colab will soon switch to TensorFlow 2.x.<br>\n",
              "We recommend you <a href=\"https://www.tensorflow.org/guide/migrate\" target=\"_blank\">upgrade</a> now \n",
              "or ensure your notebook will continue to use TensorFlow 1.x via the <code>%tensorflow_version 1.x</code> magic:\n",
              "<a href=\"https://colab.research.google.com/notebooks/tensorflow_version.ipynb\" target=\"_blank\">more info</a>.</p>\n"
            ],
            "text/plain": [
              "<IPython.core.display.HTML object>"
            ]
          },
          "metadata": {
            "tags": []
          }
        }
      ]
    },
    {
      "cell_type": "markdown",
      "metadata": {
        "id": "nmHqHf4Tfvnr",
        "colab_type": "text"
      },
      "source": [
        "from sklearn.model_selection import train_test_split\n",
        "X_train, X_test, y_train, y_test = train_test_split(X_train,label, test_size=0.2)\n"
      ]
    },
    {
      "cell_type": "code",
      "metadata": {
        "id": "H-kEYUysgsaP",
        "colab_type": "code",
        "outputId": "ba232724-7368-4d8a-a8ef-8bc0ce58467d",
        "colab": {
          "base_uri": "https://localhost:8080/",
          "height": 87
        }
      },
      "source": [
        "from sklearn.model_selection import train_test_split\n",
        "X_train, X_test, y_train, y_test = train_test_split(X_train,y_train, test_size=0.1)\n",
        "\n",
        "print('Training Features Shape:', X_train.shape)\n",
        "print('Training Labels Shape:', y_train.shape)\n",
        "print('Testing Features Shape:', X_test.shape)\n",
        "print('Testing Labels Shape:', y_test.shape)"
      ],
      "execution_count": 0,
      "outputs": [
        {
          "output_type": "stream",
          "text": [
            "Training Features Shape: (4706, 193)\n",
            "Training Labels Shape: (4706, 6)\n",
            "Testing Features Shape: (523, 193)\n",
            "Testing Labels Shape: (523, 6)\n"
          ],
          "name": "stdout"
        }
      ]
    },
    {
      "cell_type": "code",
      "metadata": {
        "id": "8b6Uv4XlhH-1",
        "colab_type": "code",
        "colab": {}
      },
      "source": [
        "y_train\n",
        "from keras import optimizers\n",
        "\n",
        "# All parameter gradients will be clipped to\n",
        "# a maximum norm of 1.\n",
        "sgd = optimizers.SGD(lr=0.01, clipnorm=1.)"
      ],
      "execution_count": 0,
      "outputs": []
    },
    {
      "cell_type": "code",
      "metadata": {
        "id": "QEw2diozh2hC",
        "colab_type": "code",
        "colab": {}
      },
      "source": [
        "import keras\n",
        "from keras.models import Sequential\n",
        "from keras.layers import Dense,Dropout\n"
      ],
      "execution_count": 0,
      "outputs": []
    },
    {
      "cell_type": "code",
      "metadata": {
        "id": "uvR3zz4Rh-S9",
        "colab_type": "code",
        "colab": {}
      },
      "source": [
        "#itialiser le reseau de neurone\n",
        "classifier= Sequential()"
      ],
      "execution_count": 0,
      "outputs": []
    },
    {
      "cell_type": "code",
      "metadata": {
        "id": "OtrCI73KlboU",
        "colab_type": "code",
        "colab": {}
      },
      "source": [
        "#couche cacher\n",
        "classifier.add(Dense(units=100,activation='relu',kernel_initializer='uniform',input_dim=193))\n",
        "classifier.add(Dropout(rate=0.4))\n",
        "classifier.add(Dense(units=78,activation='relu',kernel_initializer='uniform',input_dim=193))\n",
        "classifier.add(Dropout(rate=0.4))\n",
        "classifier.add(Dense(units=78,activation='relu',kernel_initializer='uniform',input_dim=193))\n",
        "classifier.add(Dropout(rate=0.4))\n",
        "classifier.add(Dense(units=78,activation='relu',kernel_initializer='uniform',input_dim=193))\n",
        "classifier.add(Dropout(rate=0.4))\n",
        "classifier.add(Dense(units=78,activation='relu',kernel_initializer='uniform',input_dim=193))\n",
        "classifier.add(Dropout(rate=0.4))\n",
        "classifier.add(Dense(units=97,activation='relu',kernel_initializer='uniform',input_dim=193))\n",
        "classifier.add(Dropout(rate=0.4))\n",
        "\n",
        "#couche cacher\n",
        "#classifier4.add(Dense(units=6,activation='relu',kernel_initializer='uniform',input_dim=97))\n",
        "#classifier4.add(Dropout(rate=0.1))\n",
        "#couche cacher de sortie\n",
        "classifier.add(Dense(units=6,activation='softmax',kernel_initializer='uniform'))\n",
        "#compiler"
      ],
      "execution_count": 0,
      "outputs": []
    },
    {
      "cell_type": "markdown",
      "metadata": {
        "id": "HZGE9KTyldfF",
        "colab_type": "text"
      },
      "source": [
        "#couche cacher\n",
        "classifier.add(Dense(units=97,activation='relu',kernel_initializer='uniform'))"
      ]
    },
    {
      "cell_type": "code",
      "metadata": {
        "id": "rkQdBYyQnktH",
        "colab_type": "code",
        "colab": {}
      },
      "source": [
        "#compiler\n",
        "classifier.compile(optimizer='Adam',loss='categorical_crossentropy',metrics=['accuracy'])\n"
      ],
      "execution_count": 0,
      "outputs": []
    },
    {
      "cell_type": "code",
      "metadata": {
        "id": "VDxB3uEZWLQ9",
        "colab_type": "code",
        "outputId": "600badec-8ef0-4b9e-fbb3-5c5e6b729368",
        "colab": {
          "base_uri": "https://localhost:8080/",
          "height": 247
        }
      },
      "source": [
        "classifier.layers"
      ],
      "execution_count": 0,
      "outputs": [
        {
          "output_type": "execute_result",
          "data": {
            "text/plain": [
              "[<keras.layers.core.Dense at 0x7fac47e1bc88>,\n",
              " <keras.layers.core.Dropout at 0x7fac47e1bcc0>,\n",
              " <keras.layers.core.Dense at 0x7fac47e30eb8>,\n",
              " <keras.layers.core.Dropout at 0x7fac47e76588>,\n",
              " <keras.layers.core.Dense at 0x7fac47e2dac8>,\n",
              " <keras.layers.core.Dropout at 0x7fac47e3b898>,\n",
              " <keras.layers.core.Dense at 0x7fac47e43c88>,\n",
              " <keras.layers.core.Dropout at 0x7fac47e47f60>,\n",
              " <keras.layers.core.Dense at 0x7fac47de0390>,\n",
              " <keras.layers.core.Dropout at 0x7fac47defb70>,\n",
              " <keras.layers.core.Dense at 0x7fac47df7ac8>,\n",
              " <keras.layers.core.Dropout at 0x7fac47e03f98>,\n",
              " <keras.layers.core.Dense at 0x7fac47d93198>]"
            ]
          },
          "metadata": {
            "tags": []
          },
          "execution_count": 38
        }
      ]
    },
    {
      "cell_type": "code",
      "metadata": {
        "colab_type": "code",
        "outputId": "fc34ed06-fecd-408d-c3b5-b698edac0d6d",
        "id": "u5G4bXSDqPQD",
        "colab": {
          "base_uri": "https://localhost:8080/",
          "height": 1000
        }
      },
      "source": [
        "\n",
        "classifier.fit(X_train, y_train,batch_size=64,epochs=200,validation_data=(X_test, y_test))"
      ],
      "execution_count": 0,
      "outputs": [
        {
          "output_type": "stream",
          "text": [
            "Train on 4706 samples, validate on 523 samples\n",
            "Epoch 1/200\n",
            "4706/4706 [==============================] - 1s 137us/step - loss: 1.1121 - acc: 0.5533 - val_loss: 1.3666 - val_acc: 0.4704\n",
            "Epoch 2/200\n",
            "4706/4706 [==============================] - 1s 131us/step - loss: 1.1069 - acc: 0.5635 - val_loss: 1.3558 - val_acc: 0.4685\n",
            "Epoch 3/200\n",
            "4706/4706 [==============================] - 1s 142us/step - loss: 1.1223 - acc: 0.5504 - val_loss: 1.3839 - val_acc: 0.4608\n",
            "Epoch 4/200\n",
            "4706/4706 [==============================] - 1s 137us/step - loss: 1.1092 - acc: 0.5708 - val_loss: 1.3821 - val_acc: 0.4551\n",
            "Epoch 5/200\n",
            "4706/4706 [==============================] - 1s 132us/step - loss: 1.1047 - acc: 0.5623 - val_loss: 1.3699 - val_acc: 0.4570\n",
            "Epoch 6/200\n",
            "4706/4706 [==============================] - 1s 141us/step - loss: 1.0978 - acc: 0.5589 - val_loss: 1.4093 - val_acc: 0.4570\n",
            "Epoch 7/200\n",
            "4706/4706 [==============================] - 1s 139us/step - loss: 1.0735 - acc: 0.5667 - val_loss: 1.3609 - val_acc: 0.4799\n",
            "Epoch 8/200\n",
            "4706/4706 [==============================] - 1s 153us/step - loss: 1.0885 - acc: 0.5729 - val_loss: 1.3805 - val_acc: 0.4761\n",
            "Epoch 9/200\n",
            "4706/4706 [==============================] - 1s 139us/step - loss: 1.0855 - acc: 0.5659 - val_loss: 1.3855 - val_acc: 0.4685\n",
            "Epoch 10/200\n",
            "4706/4706 [==============================] - 1s 141us/step - loss: 1.0831 - acc: 0.5676 - val_loss: 1.3938 - val_acc: 0.4551\n",
            "Epoch 11/200\n",
            "4706/4706 [==============================] - 1s 127us/step - loss: 1.0773 - acc: 0.5720 - val_loss: 1.3848 - val_acc: 0.4589\n",
            "Epoch 12/200\n",
            "4706/4706 [==============================] - 1s 132us/step - loss: 1.0653 - acc: 0.5776 - val_loss: 1.3685 - val_acc: 0.4551\n",
            "Epoch 13/200\n",
            "4706/4706 [==============================] - 1s 132us/step - loss: 1.0570 - acc: 0.5822 - val_loss: 1.3707 - val_acc: 0.4685\n",
            "Epoch 14/200\n",
            "4706/4706 [==============================] - 1s 133us/step - loss: 1.0886 - acc: 0.5705 - val_loss: 1.3934 - val_acc: 0.4589\n",
            "Epoch 15/200\n",
            "4706/4706 [==============================] - 1s 124us/step - loss: 1.0636 - acc: 0.5735 - val_loss: 1.3929 - val_acc: 0.4723\n",
            "Epoch 16/200\n",
            "4706/4706 [==============================] - 1s 133us/step - loss: 1.0505 - acc: 0.5871 - val_loss: 1.3847 - val_acc: 0.4818\n",
            "Epoch 17/200\n",
            "4706/4706 [==============================] - 1s 129us/step - loss: 1.0851 - acc: 0.5644 - val_loss: 1.3915 - val_acc: 0.4685\n",
            "Epoch 18/200\n",
            "4706/4706 [==============================] - 1s 138us/step - loss: 1.0762 - acc: 0.5782 - val_loss: 1.3523 - val_acc: 0.4627\n",
            "Epoch 19/200\n",
            "4706/4706 [==============================] - 1s 134us/step - loss: 1.0460 - acc: 0.5835 - val_loss: 1.3735 - val_acc: 0.4589\n",
            "Epoch 20/200\n",
            "4706/4706 [==============================] - 1s 140us/step - loss: 1.0582 - acc: 0.5841 - val_loss: 1.3965 - val_acc: 0.4685\n",
            "Epoch 21/200\n",
            "4706/4706 [==============================] - 1s 137us/step - loss: 1.0403 - acc: 0.5863 - val_loss: 1.3794 - val_acc: 0.4551\n",
            "Epoch 22/200\n",
            "4706/4706 [==============================] - 1s 143us/step - loss: 1.0321 - acc: 0.5784 - val_loss: 1.3981 - val_acc: 0.4627\n",
            "Epoch 23/200\n",
            "4706/4706 [==============================] - 1s 142us/step - loss: 1.0563 - acc: 0.5839 - val_loss: 1.3700 - val_acc: 0.4704\n",
            "Epoch 24/200\n",
            "4706/4706 [==============================] - 1s 127us/step - loss: 1.0313 - acc: 0.5914 - val_loss: 1.4044 - val_acc: 0.4589\n",
            "Epoch 25/200\n",
            "4706/4706 [==============================] - 1s 138us/step - loss: 1.0498 - acc: 0.5922 - val_loss: 1.3981 - val_acc: 0.4455\n",
            "Epoch 26/200\n",
            "4706/4706 [==============================] - 1s 136us/step - loss: 1.0336 - acc: 0.5884 - val_loss: 1.3783 - val_acc: 0.4646\n",
            "Epoch 27/200\n",
            "4706/4706 [==============================] - 1s 127us/step - loss: 1.0324 - acc: 0.5899 - val_loss: 1.3723 - val_acc: 0.4799\n",
            "Epoch 28/200\n",
            "4706/4706 [==============================] - 1s 133us/step - loss: 1.0457 - acc: 0.5888 - val_loss: 1.3789 - val_acc: 0.4742\n",
            "Epoch 29/200\n",
            "4706/4706 [==============================] - 1s 139us/step - loss: 1.0348 - acc: 0.5933 - val_loss: 1.3989 - val_acc: 0.4532\n",
            "Epoch 30/200\n",
            "4706/4706 [==============================] - 1s 132us/step - loss: 1.0443 - acc: 0.5905 - val_loss: 1.4042 - val_acc: 0.4685\n",
            "Epoch 31/200\n",
            "4706/4706 [==============================] - 1s 141us/step - loss: 1.0195 - acc: 0.5967 - val_loss: 1.4443 - val_acc: 0.4818\n",
            "Epoch 32/200\n",
            "4706/4706 [==============================] - 1s 138us/step - loss: 1.0246 - acc: 0.6020 - val_loss: 1.3959 - val_acc: 0.4780\n",
            "Epoch 33/200\n",
            "4706/4706 [==============================] - 1s 132us/step - loss: 1.0125 - acc: 0.6094 - val_loss: 1.4220 - val_acc: 0.4780\n",
            "Epoch 34/200\n",
            "4706/4706 [==============================] - 1s 140us/step - loss: 1.0230 - acc: 0.6033 - val_loss: 1.3935 - val_acc: 0.4704\n",
            "Epoch 35/200\n",
            "4706/4706 [==============================] - 1s 131us/step - loss: 1.0217 - acc: 0.5965 - val_loss: 1.4071 - val_acc: 0.4685\n",
            "Epoch 36/200\n",
            "4706/4706 [==============================] - 1s 135us/step - loss: 0.9992 - acc: 0.6014 - val_loss: 1.4032 - val_acc: 0.4723\n",
            "Epoch 37/200\n",
            "4706/4706 [==============================] - 1s 141us/step - loss: 1.0124 - acc: 0.6069 - val_loss: 1.4215 - val_acc: 0.4723\n",
            "Epoch 38/200\n",
            "4706/4706 [==============================] - 1s 127us/step - loss: 1.0092 - acc: 0.6075 - val_loss: 1.3926 - val_acc: 0.4665\n",
            "Epoch 39/200\n",
            "4706/4706 [==============================] - 1s 128us/step - loss: 0.9888 - acc: 0.6169 - val_loss: 1.4027 - val_acc: 0.4857\n",
            "Epoch 40/200\n",
            "4706/4706 [==============================] - 1s 124us/step - loss: 1.0162 - acc: 0.6096 - val_loss: 1.4057 - val_acc: 0.4761\n",
            "Epoch 41/200\n",
            "4706/4706 [==============================] - 1s 146us/step - loss: 0.9929 - acc: 0.6090 - val_loss: 1.4576 - val_acc: 0.4704\n",
            "Epoch 42/200\n",
            "4706/4706 [==============================] - 1s 142us/step - loss: 1.0079 - acc: 0.6109 - val_loss: 1.4170 - val_acc: 0.4780\n",
            "Epoch 43/200\n",
            "4706/4706 [==============================] - 1s 140us/step - loss: 0.9974 - acc: 0.6099 - val_loss: 1.3916 - val_acc: 0.4551\n",
            "Epoch 44/200\n",
            "4706/4706 [==============================] - 1s 140us/step - loss: 0.9944 - acc: 0.6232 - val_loss: 1.4341 - val_acc: 0.4493\n",
            "Epoch 45/200\n",
            "4706/4706 [==============================] - 1s 143us/step - loss: 0.9962 - acc: 0.6188 - val_loss: 1.4082 - val_acc: 0.4876\n",
            "Epoch 46/200\n",
            "4706/4706 [==============================] - 1s 139us/step - loss: 0.9952 - acc: 0.6150 - val_loss: 1.4344 - val_acc: 0.4799\n",
            "Epoch 47/200\n",
            "4706/4706 [==============================] - 1s 140us/step - loss: 0.9906 - acc: 0.6203 - val_loss: 1.4575 - val_acc: 0.4761\n",
            "Epoch 48/200\n",
            "4706/4706 [==============================] - 1s 137us/step - loss: 0.9817 - acc: 0.6113 - val_loss: 1.4446 - val_acc: 0.4876\n",
            "Epoch 49/200\n",
            "4706/4706 [==============================] - 1s 131us/step - loss: 1.0023 - acc: 0.6020 - val_loss: 1.4203 - val_acc: 0.4704\n",
            "Epoch 50/200\n",
            "4706/4706 [==============================] - 1s 140us/step - loss: 0.9632 - acc: 0.6283 - val_loss: 1.4526 - val_acc: 0.4646\n",
            "Epoch 51/200\n",
            "4706/4706 [==============================] - 1s 133us/step - loss: 0.9865 - acc: 0.6203 - val_loss: 1.4230 - val_acc: 0.4799\n",
            "Epoch 52/200\n",
            "4706/4706 [==============================] - 1s 129us/step - loss: 0.9657 - acc: 0.6181 - val_loss: 1.4419 - val_acc: 0.4742\n",
            "Epoch 53/200\n",
            "4706/4706 [==============================] - 1s 142us/step - loss: 0.9644 - acc: 0.6224 - val_loss: 1.4424 - val_acc: 0.4723\n",
            "Epoch 54/200\n",
            "4706/4706 [==============================] - 1s 129us/step - loss: 0.9912 - acc: 0.6135 - val_loss: 1.4058 - val_acc: 0.4685\n",
            "Epoch 55/200\n",
            "4706/4706 [==============================] - 1s 133us/step - loss: 0.9723 - acc: 0.6307 - val_loss: 1.4534 - val_acc: 0.4761\n",
            "Epoch 56/200\n",
            "4706/4706 [==============================] - 1s 138us/step - loss: 0.9838 - acc: 0.6154 - val_loss: 1.4392 - val_acc: 0.4914\n",
            "Epoch 57/200\n",
            "4706/4706 [==============================] - 1s 129us/step - loss: 0.9939 - acc: 0.6143 - val_loss: 1.4080 - val_acc: 0.4646\n",
            "Epoch 58/200\n",
            "4706/4706 [==============================] - 1s 128us/step - loss: 0.9691 - acc: 0.6184 - val_loss: 1.4175 - val_acc: 0.4685\n",
            "Epoch 59/200\n",
            "4706/4706 [==============================] - 1s 146us/step - loss: 0.9749 - acc: 0.6209 - val_loss: 1.4356 - val_acc: 0.4799\n",
            "Epoch 60/200\n",
            "4706/4706 [==============================] - 1s 140us/step - loss: 0.9816 - acc: 0.6150 - val_loss: 1.4287 - val_acc: 0.4723\n",
            "Epoch 61/200\n",
            "4706/4706 [==============================] - 1s 129us/step - loss: 0.9665 - acc: 0.6224 - val_loss: 1.4291 - val_acc: 0.4742\n",
            "Epoch 62/200\n",
            "4706/4706 [==============================] - 1s 133us/step - loss: 0.9717 - acc: 0.6294 - val_loss: 1.3936 - val_acc: 0.4723\n",
            "Epoch 63/200\n",
            "4706/4706 [==============================] - 1s 147us/step - loss: 0.9580 - acc: 0.6364 - val_loss: 1.4675 - val_acc: 0.4589\n",
            "Epoch 64/200\n",
            "4706/4706 [==============================] - 1s 144us/step - loss: 0.9706 - acc: 0.6298 - val_loss: 1.4352 - val_acc: 0.4723\n",
            "Epoch 65/200\n",
            "4706/4706 [==============================] - 1s 141us/step - loss: 0.9590 - acc: 0.6317 - val_loss: 1.4355 - val_acc: 0.4837\n",
            "Epoch 66/200\n",
            "4706/4706 [==============================] - 1s 134us/step - loss: 0.9382 - acc: 0.6519 - val_loss: 1.4406 - val_acc: 0.4914\n",
            "Epoch 67/200\n",
            "4706/4706 [==============================] - 1s 141us/step - loss: 0.9322 - acc: 0.6383 - val_loss: 1.4806 - val_acc: 0.4799\n",
            "Epoch 68/200\n",
            "4706/4706 [==============================] - 1s 135us/step - loss: 0.9487 - acc: 0.6324 - val_loss: 1.4591 - val_acc: 0.4723\n",
            "Epoch 69/200\n",
            "4706/4706 [==============================] - 1s 149us/step - loss: 0.9527 - acc: 0.6317 - val_loss: 1.4867 - val_acc: 0.4704\n",
            "Epoch 70/200\n",
            "4706/4706 [==============================] - 1s 148us/step - loss: 0.9332 - acc: 0.6407 - val_loss: 1.5011 - val_acc: 0.4704\n",
            "Epoch 71/200\n",
            "4706/4706 [==============================] - 1s 146us/step - loss: 0.9582 - acc: 0.6366 - val_loss: 1.4519 - val_acc: 0.4627\n",
            "Epoch 72/200\n",
            "4706/4706 [==============================] - 1s 136us/step - loss: 0.9461 - acc: 0.6351 - val_loss: 1.4370 - val_acc: 0.4837\n",
            "Epoch 73/200\n",
            "4706/4706 [==============================] - 1s 132us/step - loss: 0.9360 - acc: 0.6400 - val_loss: 1.4623 - val_acc: 0.4799\n",
            "Epoch 74/200\n",
            "4706/4706 [==============================] - 1s 146us/step - loss: 0.9464 - acc: 0.6407 - val_loss: 1.4628 - val_acc: 0.4665\n",
            "Epoch 75/200\n",
            "4706/4706 [==============================] - 1s 139us/step - loss: 0.9404 - acc: 0.6375 - val_loss: 1.4771 - val_acc: 0.4704\n",
            "Epoch 76/200\n",
            "4706/4706 [==============================] - 1s 134us/step - loss: 0.9397 - acc: 0.6364 - val_loss: 1.4635 - val_acc: 0.4895\n",
            "Epoch 77/200\n",
            "4706/4706 [==============================] - 1s 143us/step - loss: 0.9280 - acc: 0.6436 - val_loss: 1.5011 - val_acc: 0.4627\n",
            "Epoch 78/200\n",
            "4706/4706 [==============================] - 1s 133us/step - loss: 0.9565 - acc: 0.6356 - val_loss: 1.4724 - val_acc: 0.4704\n",
            "Epoch 79/200\n",
            "4706/4706 [==============================] - 1s 141us/step - loss: 0.9291 - acc: 0.6441 - val_loss: 1.4669 - val_acc: 0.4933\n",
            "Epoch 80/200\n",
            "4706/4706 [==============================] - 1s 136us/step - loss: 0.9412 - acc: 0.6317 - val_loss: 1.4637 - val_acc: 0.4876\n",
            "Epoch 81/200\n",
            "4706/4706 [==============================] - 1s 131us/step - loss: 0.9337 - acc: 0.6400 - val_loss: 1.5094 - val_acc: 0.4780\n",
            "Epoch 82/200\n",
            "4706/4706 [==============================] - 1s 136us/step - loss: 0.9128 - acc: 0.6555 - val_loss: 1.4921 - val_acc: 0.4799\n",
            "Epoch 83/200\n",
            "4706/4706 [==============================] - 1s 137us/step - loss: 0.9288 - acc: 0.6413 - val_loss: 1.4882 - val_acc: 0.4665\n",
            "Epoch 84/200\n",
            "4706/4706 [==============================] - 1s 136us/step - loss: 0.9341 - acc: 0.6453 - val_loss: 1.5193 - val_acc: 0.4665\n",
            "Epoch 85/200\n",
            "4706/4706 [==============================] - 1s 136us/step - loss: 0.9376 - acc: 0.6462 - val_loss: 1.4736 - val_acc: 0.4570\n",
            "Epoch 86/200\n",
            "4706/4706 [==============================] - 1s 138us/step - loss: 0.9348 - acc: 0.6430 - val_loss: 1.5036 - val_acc: 0.4761\n",
            "Epoch 87/200\n",
            "4706/4706 [==============================] - 1s 131us/step - loss: 0.9214 - acc: 0.6483 - val_loss: 1.5073 - val_acc: 0.4665\n",
            "Epoch 88/200\n",
            "4706/4706 [==============================] - 1s 145us/step - loss: 0.9187 - acc: 0.6568 - val_loss: 1.5026 - val_acc: 0.4665\n",
            "Epoch 89/200\n",
            "4706/4706 [==============================] - 1s 134us/step - loss: 0.9424 - acc: 0.6396 - val_loss: 1.4986 - val_acc: 0.4723\n",
            "Epoch 90/200\n",
            "4706/4706 [==============================] - 1s 143us/step - loss: 0.9113 - acc: 0.6549 - val_loss: 1.5106 - val_acc: 0.4761\n",
            "Epoch 91/200\n",
            "4706/4706 [==============================] - 1s 139us/step - loss: 0.9180 - acc: 0.6572 - val_loss: 1.4962 - val_acc: 0.4723\n",
            "Epoch 92/200\n",
            "4706/4706 [==============================] - 1s 125us/step - loss: 0.9191 - acc: 0.6585 - val_loss: 1.5393 - val_acc: 0.4532\n",
            "Epoch 93/200\n",
            "4706/4706 [==============================] - 1s 138us/step - loss: 0.9266 - acc: 0.6470 - val_loss: 1.4952 - val_acc: 0.4685\n",
            "Epoch 94/200\n",
            "4706/4706 [==============================] - 1s 131us/step - loss: 0.9345 - acc: 0.6494 - val_loss: 1.5134 - val_acc: 0.4646\n",
            "Epoch 95/200\n",
            "4706/4706 [==============================] - 1s 131us/step - loss: 0.9242 - acc: 0.6524 - val_loss: 1.4620 - val_acc: 0.4799\n",
            "Epoch 96/200\n",
            "4706/4706 [==============================] - 1s 136us/step - loss: 0.8937 - acc: 0.6524 - val_loss: 1.5112 - val_acc: 0.4742\n",
            "Epoch 97/200\n",
            "4706/4706 [==============================] - 1s 126us/step - loss: 0.9074 - acc: 0.6638 - val_loss: 1.5201 - val_acc: 0.4685\n",
            "Epoch 98/200\n",
            "4706/4706 [==============================] - 1s 136us/step - loss: 0.9202 - acc: 0.6526 - val_loss: 1.5152 - val_acc: 0.4493\n",
            "Epoch 99/200\n",
            "4706/4706 [==============================] - 1s 129us/step - loss: 0.8995 - acc: 0.6541 - val_loss: 1.5347 - val_acc: 0.4685\n",
            "Epoch 100/200\n",
            "4706/4706 [==============================] - 1s 139us/step - loss: 0.8988 - acc: 0.6592 - val_loss: 1.5633 - val_acc: 0.4398\n",
            "Epoch 101/200\n",
            "4706/4706 [==============================] - 1s 134us/step - loss: 0.9183 - acc: 0.6587 - val_loss: 1.5479 - val_acc: 0.4436\n",
            "Epoch 102/200\n",
            "4706/4706 [==============================] - 1s 131us/step - loss: 0.8843 - acc: 0.6581 - val_loss: 1.5498 - val_acc: 0.4646\n",
            "Epoch 103/200\n",
            "4706/4706 [==============================] - 1s 142us/step - loss: 0.9135 - acc: 0.6468 - val_loss: 1.5263 - val_acc: 0.4742\n",
            "Epoch 104/200\n",
            "4706/4706 [==============================] - 1s 142us/step - loss: 0.9040 - acc: 0.6600 - val_loss: 1.5438 - val_acc: 0.4570\n",
            "Epoch 105/200\n",
            "4706/4706 [==============================] - 1s 135us/step - loss: 0.9001 - acc: 0.6674 - val_loss: 1.6011 - val_acc: 0.4627\n",
            "Epoch 106/200\n",
            "4706/4706 [==============================] - 1s 140us/step - loss: 0.8933 - acc: 0.6685 - val_loss: 1.5526 - val_acc: 0.4532\n",
            "Epoch 107/200\n",
            "4706/4706 [==============================] - 1s 131us/step - loss: 0.8773 - acc: 0.6666 - val_loss: 1.5753 - val_acc: 0.4532\n",
            "Epoch 108/200\n",
            "4706/4706 [==============================] - 1s 138us/step - loss: 0.8993 - acc: 0.6617 - val_loss: 1.5566 - val_acc: 0.4493\n",
            "Epoch 109/200\n",
            "4706/4706 [==============================] - 1s 132us/step - loss: 0.9108 - acc: 0.6592 - val_loss: 1.5355 - val_acc: 0.4493\n",
            "Epoch 110/200\n",
            "4706/4706 [==============================] - 1s 137us/step - loss: 0.8856 - acc: 0.6681 - val_loss: 1.5482 - val_acc: 0.4608\n",
            "Epoch 111/200\n",
            "4706/4706 [==============================] - 1s 132us/step - loss: 0.8880 - acc: 0.6596 - val_loss: 1.5341 - val_acc: 0.4551\n",
            "Epoch 112/200\n",
            "4706/4706 [==============================] - 1s 129us/step - loss: 0.8986 - acc: 0.6645 - val_loss: 1.5325 - val_acc: 0.4512\n",
            "Epoch 113/200\n",
            "4706/4706 [==============================] - 1s 142us/step - loss: 0.8940 - acc: 0.6651 - val_loss: 1.5373 - val_acc: 0.4742\n",
            "Epoch 114/200\n",
            "4706/4706 [==============================] - 1s 132us/step - loss: 0.9009 - acc: 0.6600 - val_loss: 1.5414 - val_acc: 0.4512\n",
            "Epoch 115/200\n",
            "4706/4706 [==============================] - 1s 136us/step - loss: 0.8958 - acc: 0.6670 - val_loss: 1.5247 - val_acc: 0.4608\n",
            "Epoch 116/200\n",
            "4706/4706 [==============================] - 1s 140us/step - loss: 0.9004 - acc: 0.6634 - val_loss: 1.5702 - val_acc: 0.4665\n",
            "Epoch 117/200\n",
            "4706/4706 [==============================] - 1s 126us/step - loss: 0.8821 - acc: 0.6657 - val_loss: 1.5594 - val_acc: 0.4551\n",
            "Epoch 118/200\n",
            "4706/4706 [==============================] - 1s 143us/step - loss: 0.8887 - acc: 0.6668 - val_loss: 1.5990 - val_acc: 0.4493\n",
            "Epoch 119/200\n",
            "4706/4706 [==============================] - 1s 132us/step - loss: 0.8861 - acc: 0.6636 - val_loss: 1.5822 - val_acc: 0.4704\n",
            "Epoch 120/200\n",
            "4706/4706 [==============================] - 1s 132us/step - loss: 0.8918 - acc: 0.6636 - val_loss: 1.5809 - val_acc: 0.4780\n",
            "Epoch 121/200\n",
            "4706/4706 [==============================] - 1s 135us/step - loss: 0.8763 - acc: 0.6798 - val_loss: 1.6029 - val_acc: 0.4570\n",
            "Epoch 122/200\n",
            "4706/4706 [==============================] - 1s 133us/step - loss: 0.8853 - acc: 0.6708 - val_loss: 1.5466 - val_acc: 0.4493\n",
            "Epoch 123/200\n",
            "4706/4706 [==============================] - 1s 133us/step - loss: 0.8820 - acc: 0.6674 - val_loss: 1.5544 - val_acc: 0.4665\n",
            "Epoch 124/200\n",
            "4706/4706 [==============================] - 1s 132us/step - loss: 0.8979 - acc: 0.6670 - val_loss: 1.5269 - val_acc: 0.4799\n",
            "Epoch 125/200\n",
            "4706/4706 [==============================] - 1s 127us/step - loss: 0.8996 - acc: 0.6662 - val_loss: 1.4941 - val_acc: 0.4761\n",
            "Epoch 126/200\n",
            "4706/4706 [==============================] - 1s 139us/step - loss: 0.9018 - acc: 0.6689 - val_loss: 1.5342 - val_acc: 0.4837\n",
            "Epoch 127/200\n",
            "4706/4706 [==============================] - 1s 124us/step - loss: 0.8906 - acc: 0.6681 - val_loss: 1.5768 - val_acc: 0.4665\n",
            "Epoch 128/200\n",
            "4706/4706 [==============================] - 1s 136us/step - loss: 0.8849 - acc: 0.6615 - val_loss: 1.5328 - val_acc: 0.4761\n",
            "Epoch 129/200\n",
            "4706/4706 [==============================] - 1s 129us/step - loss: 0.8841 - acc: 0.6630 - val_loss: 1.5441 - val_acc: 0.4551\n",
            "Epoch 130/200\n",
            "4706/4706 [==============================] - 1s 128us/step - loss: 0.8570 - acc: 0.6853 - val_loss: 1.5889 - val_acc: 0.4665\n",
            "Epoch 131/200\n",
            "4706/4706 [==============================] - 1s 131us/step - loss: 0.8855 - acc: 0.6657 - val_loss: 1.5607 - val_acc: 0.4665\n",
            "Epoch 132/200\n",
            "4706/4706 [==============================] - 1s 131us/step - loss: 0.8986 - acc: 0.6640 - val_loss: 1.5398 - val_acc: 0.4608\n",
            "Epoch 133/200\n",
            "4706/4706 [==============================] - 1s 129us/step - loss: 0.8613 - acc: 0.6757 - val_loss: 1.5633 - val_acc: 0.4857\n",
            "Epoch 134/200\n",
            "4706/4706 [==============================] - 1s 123us/step - loss: 0.8912 - acc: 0.6719 - val_loss: 1.5462 - val_acc: 0.4876\n",
            "Epoch 135/200\n",
            "4706/4706 [==============================] - 1s 139us/step - loss: 0.8891 - acc: 0.6689 - val_loss: 1.5411 - val_acc: 0.4723\n",
            "Epoch 136/200\n",
            "4706/4706 [==============================] - 1s 135us/step - loss: 0.8778 - acc: 0.6685 - val_loss: 1.5691 - val_acc: 0.4608\n",
            "Epoch 137/200\n",
            "4706/4706 [==============================] - 1s 143us/step - loss: 0.8579 - acc: 0.6834 - val_loss: 1.5775 - val_acc: 0.4608\n",
            "Epoch 138/200\n",
            "4706/4706 [==============================] - 1s 130us/step - loss: 0.8589 - acc: 0.6853 - val_loss: 1.5188 - val_acc: 0.4857\n",
            "Epoch 139/200\n",
            "4706/4706 [==============================] - 1s 137us/step - loss: 0.8649 - acc: 0.6791 - val_loss: 1.5342 - val_acc: 0.4818\n",
            "Epoch 140/200\n",
            "4706/4706 [==============================] - 1s 135us/step - loss: 0.8837 - acc: 0.6649 - val_loss: 1.5532 - val_acc: 0.4742\n",
            "Epoch 141/200\n",
            "4706/4706 [==============================] - 1s 141us/step - loss: 0.8581 - acc: 0.6815 - val_loss: 1.5543 - val_acc: 0.4761\n",
            "Epoch 142/200\n",
            "4706/4706 [==============================] - 1s 137us/step - loss: 0.8808 - acc: 0.6728 - val_loss: 1.5234 - val_acc: 0.4589\n",
            "Epoch 143/200\n",
            "4706/4706 [==============================] - 1s 130us/step - loss: 0.8700 - acc: 0.6762 - val_loss: 1.5539 - val_acc: 0.4570\n",
            "Epoch 144/200\n",
            "4706/4706 [==============================] - 1s 134us/step - loss: 0.8609 - acc: 0.6804 - val_loss: 1.5531 - val_acc: 0.4646\n",
            "Epoch 145/200\n",
            "4706/4706 [==============================] - 1s 134us/step - loss: 0.8460 - acc: 0.6762 - val_loss: 1.5630 - val_acc: 0.4914\n",
            "Epoch 146/200\n",
            "4706/4706 [==============================] - 1s 134us/step - loss: 0.8590 - acc: 0.6836 - val_loss: 1.5682 - val_acc: 0.4914\n",
            "Epoch 147/200\n",
            "4706/4706 [==============================] - 1s 130us/step - loss: 0.8585 - acc: 0.6819 - val_loss: 1.5933 - val_acc: 0.4704\n",
            "Epoch 148/200\n",
            "4706/4706 [==============================] - 1s 138us/step - loss: 0.8608 - acc: 0.6813 - val_loss: 1.5974 - val_acc: 0.4742\n",
            "Epoch 149/200\n",
            "4706/4706 [==============================] - 1s 128us/step - loss: 0.8581 - acc: 0.6755 - val_loss: 1.6287 - val_acc: 0.4608\n",
            "Epoch 150/200\n",
            "4706/4706 [==============================] - 1s 138us/step - loss: 0.8404 - acc: 0.6921 - val_loss: 1.6193 - val_acc: 0.4589\n",
            "Epoch 151/200\n",
            "4706/4706 [==============================] - 1s 134us/step - loss: 0.8478 - acc: 0.6753 - val_loss: 1.5889 - val_acc: 0.4761\n",
            "Epoch 152/200\n",
            "4706/4706 [==============================] - 1s 129us/step - loss: 0.8676 - acc: 0.6802 - val_loss: 1.5792 - val_acc: 0.4627\n",
            "Epoch 153/200\n",
            "4706/4706 [==============================] - 1s 135us/step - loss: 0.8623 - acc: 0.6762 - val_loss: 1.6143 - val_acc: 0.4761\n",
            "Epoch 154/200\n",
            "4706/4706 [==============================] - 1s 132us/step - loss: 0.8645 - acc: 0.6802 - val_loss: 1.5928 - val_acc: 0.4646\n",
            "Epoch 155/200\n",
            "4706/4706 [==============================] - 1s 137us/step - loss: 0.8520 - acc: 0.6849 - val_loss: 1.5966 - val_acc: 0.4704\n",
            "Epoch 156/200\n",
            "4706/4706 [==============================] - 1s 130us/step - loss: 0.8648 - acc: 0.6866 - val_loss: 1.5558 - val_acc: 0.4780\n",
            "Epoch 157/200\n",
            "4706/4706 [==============================] - 1s 135us/step - loss: 0.8553 - acc: 0.6834 - val_loss: 1.5803 - val_acc: 0.4761\n",
            "Epoch 158/200\n",
            "4706/4706 [==============================] - 1s 138us/step - loss: 0.8600 - acc: 0.6813 - val_loss: 1.5738 - val_acc: 0.4723\n",
            "Epoch 159/200\n",
            "4706/4706 [==============================] - 1s 135us/step - loss: 0.8417 - acc: 0.6900 - val_loss: 1.6046 - val_acc: 0.4704\n",
            "Epoch 160/200\n",
            "4706/4706 [==============================] - 1s 132us/step - loss: 0.8590 - acc: 0.6785 - val_loss: 1.5730 - val_acc: 0.4723\n",
            "Epoch 161/200\n",
            "4706/4706 [==============================] - 1s 133us/step - loss: 0.8495 - acc: 0.6910 - val_loss: 1.5763 - val_acc: 0.4761\n",
            "Epoch 162/200\n",
            "4706/4706 [==============================] - 1s 134us/step - loss: 0.8380 - acc: 0.6921 - val_loss: 1.5347 - val_acc: 0.4818\n",
            "Epoch 163/200\n",
            "4706/4706 [==============================] - 1s 134us/step - loss: 0.8415 - acc: 0.6891 - val_loss: 1.5777 - val_acc: 0.4761\n",
            "Epoch 164/200\n",
            "4706/4706 [==============================] - 1s 138us/step - loss: 0.8461 - acc: 0.6810 - val_loss: 1.5440 - val_acc: 0.4685\n",
            "Epoch 165/200\n",
            "4706/4706 [==============================] - 1s 129us/step - loss: 0.8453 - acc: 0.6912 - val_loss: 1.5444 - val_acc: 0.4818\n",
            "Epoch 166/200\n",
            "4706/4706 [==============================] - 1s 143us/step - loss: 0.8490 - acc: 0.6834 - val_loss: 1.5845 - val_acc: 0.4685\n",
            "Epoch 167/200\n",
            "4706/4706 [==============================] - 1s 142us/step - loss: 0.8429 - acc: 0.6827 - val_loss: 1.5730 - val_acc: 0.4704\n",
            "Epoch 168/200\n",
            "4706/4706 [==============================] - 1s 130us/step - loss: 0.8465 - acc: 0.6885 - val_loss: 1.6086 - val_acc: 0.4627\n",
            "Epoch 169/200\n",
            "4706/4706 [==============================] - 1s 137us/step - loss: 0.8473 - acc: 0.6898 - val_loss: 1.6348 - val_acc: 0.4627\n",
            "Epoch 170/200\n",
            "4706/4706 [==============================] - 1s 134us/step - loss: 0.8706 - acc: 0.6764 - val_loss: 1.5444 - val_acc: 0.4570\n",
            "Epoch 171/200\n",
            "4706/4706 [==============================] - 1s 128us/step - loss: 0.8644 - acc: 0.6874 - val_loss: 1.5320 - val_acc: 0.4799\n",
            "Epoch 172/200\n",
            "4706/4706 [==============================] - 1s 137us/step - loss: 0.8290 - acc: 0.6985 - val_loss: 1.5517 - val_acc: 0.4799\n",
            "Epoch 173/200\n",
            "4706/4706 [==============================] - 1s 128us/step - loss: 0.8274 - acc: 0.6940 - val_loss: 1.6010 - val_acc: 0.4876\n",
            "Epoch 174/200\n",
            "4706/4706 [==============================] - 1s 130us/step - loss: 0.8373 - acc: 0.6917 - val_loss: 1.5603 - val_acc: 0.4818\n",
            "Epoch 175/200\n",
            "4706/4706 [==============================] - 1s 139us/step - loss: 0.8378 - acc: 0.6966 - val_loss: 1.5755 - val_acc: 0.4799\n",
            "Epoch 176/200\n",
            "4706/4706 [==============================] - 1s 131us/step - loss: 0.8591 - acc: 0.6838 - val_loss: 1.5702 - val_acc: 0.4704\n",
            "Epoch 177/200\n",
            "4706/4706 [==============================] - 1s 125us/step - loss: 0.8692 - acc: 0.6813 - val_loss: 1.5660 - val_acc: 0.4685\n",
            "Epoch 178/200\n",
            "4706/4706 [==============================] - 1s 130us/step - loss: 0.8150 - acc: 0.6991 - val_loss: 1.5951 - val_acc: 0.4818\n",
            "Epoch 179/200\n",
            "4706/4706 [==============================] - 1s 141us/step - loss: 0.8324 - acc: 0.6921 - val_loss: 1.5921 - val_acc: 0.4780\n",
            "Epoch 180/200\n",
            "4706/4706 [==============================] - 1s 137us/step - loss: 0.8089 - acc: 0.7017 - val_loss: 1.5838 - val_acc: 0.4799\n",
            "Epoch 181/200\n",
            "4706/4706 [==============================] - 1s 128us/step - loss: 0.8531 - acc: 0.6906 - val_loss: 1.5653 - val_acc: 0.4627\n",
            "Epoch 182/200\n",
            "4706/4706 [==============================] - 1s 139us/step - loss: 0.8522 - acc: 0.6849 - val_loss: 1.5335 - val_acc: 0.4723\n",
            "Epoch 183/200\n",
            "4706/4706 [==============================] - 1s 134us/step - loss: 0.8308 - acc: 0.6904 - val_loss: 1.5938 - val_acc: 0.4780\n",
            "Epoch 184/200\n",
            "4706/4706 [==============================] - 1s 129us/step - loss: 0.8164 - acc: 0.6946 - val_loss: 1.5930 - val_acc: 0.4685\n",
            "Epoch 185/200\n",
            "4706/4706 [==============================] - 1s 136us/step - loss: 0.8201 - acc: 0.6970 - val_loss: 1.6026 - val_acc: 0.4761\n",
            "Epoch 186/200\n",
            "4706/4706 [==============================] - 1s 132us/step - loss: 0.8244 - acc: 0.6908 - val_loss: 1.5743 - val_acc: 0.4876\n",
            "Epoch 187/200\n",
            "4706/4706 [==============================] - 1s 130us/step - loss: 0.8214 - acc: 0.6929 - val_loss: 1.5919 - val_acc: 0.4857\n",
            "Epoch 188/200\n",
            "4706/4706 [==============================] - 1s 129us/step - loss: 0.8242 - acc: 0.7031 - val_loss: 1.5751 - val_acc: 0.4837\n",
            "Epoch 189/200\n",
            "4706/4706 [==============================] - 1s 126us/step - loss: 0.8274 - acc: 0.6987 - val_loss: 1.5781 - val_acc: 0.4971\n",
            "Epoch 190/200\n",
            "4706/4706 [==============================] - 1s 132us/step - loss: 0.8424 - acc: 0.6889 - val_loss: 1.5956 - val_acc: 0.4780\n",
            "Epoch 191/200\n",
            "4706/4706 [==============================] - 1s 127us/step - loss: 0.8385 - acc: 0.6955 - val_loss: 1.5553 - val_acc: 0.4704\n",
            "Epoch 192/200\n",
            "4706/4706 [==============================] - 1s 130us/step - loss: 0.8281 - acc: 0.6974 - val_loss: 1.5821 - val_acc: 0.4570\n",
            "Epoch 193/200\n",
            "4706/4706 [==============================] - 1s 124us/step - loss: 0.8422 - acc: 0.6923 - val_loss: 1.5880 - val_acc: 0.4990\n",
            "Epoch 194/200\n",
            "4706/4706 [==============================] - 1s 123us/step - loss: 0.8047 - acc: 0.6993 - val_loss: 1.6171 - val_acc: 0.4723\n",
            "Epoch 195/200\n",
            "4706/4706 [==============================] - 1s 137us/step - loss: 0.8174 - acc: 0.7017 - val_loss: 1.5796 - val_acc: 0.4723\n",
            "Epoch 196/200\n",
            "4706/4706 [==============================] - 1s 139us/step - loss: 0.8241 - acc: 0.6942 - val_loss: 1.6022 - val_acc: 0.4723\n",
            "Epoch 197/200\n",
            "4706/4706 [==============================] - 1s 136us/step - loss: 0.7980 - acc: 0.7110 - val_loss: 1.6509 - val_acc: 0.4761\n",
            "Epoch 198/200\n",
            "4706/4706 [==============================] - 1s 132us/step - loss: 0.8188 - acc: 0.7010 - val_loss: 1.5635 - val_acc: 0.4723\n",
            "Epoch 199/200\n",
            "4706/4706 [==============================] - 1s 137us/step - loss: 0.8109 - acc: 0.7040 - val_loss: 1.6004 - val_acc: 0.4914\n",
            "Epoch 200/200\n",
            "4706/4706 [==============================] - 1s 130us/step - loss: 0.8435 - acc: 0.6870 - val_loss: 1.5849 - val_acc: 0.4837\n"
          ],
          "name": "stdout"
        },
        {
          "output_type": "execute_result",
          "data": {
            "text/plain": [
              "<keras.callbacks.History at 0x7fac47b3e898>"
            ]
          },
          "metadata": {
            "tags": []
          },
          "execution_count": 40
        }
      ]
    },
    {
      "cell_type": "markdown",
      "metadata": {
        "id": "yIGI56fcijSi",
        "colab_type": "text"
      },
      "source": [
        ""
      ]
    }
  ]
}